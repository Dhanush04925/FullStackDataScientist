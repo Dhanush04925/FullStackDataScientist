{
 "cells": [
  {
   "cell_type": "code",
   "execution_count": 2,
   "id": "5ab829fa",
   "metadata": {},
   "outputs": [
    {
     "name": "stdout",
     "output_type": "stream",
     "text": [
      "Before swapping\n",
      "5 3\n",
      "After swapping\n",
      "3 5\n"
     ]
    }
   ],
   "source": [
    "a,b=map(int,input().split())\n",
    "print(\"Before swapping\")\n",
    "print(a,b)\n",
    "a,b=b,a\n",
    "print(\"After swapping\")\n",
    "print(a,b)\n"
   ]
  },
  {
   "cell_type": "code",
   "execution_count": 6,
   "id": "2463ddb6",
   "metadata": {},
   "outputs": [
    {
     "name": "stdout",
     "output_type": "stream",
     "text": [
      "olleh\n"
     ]
    }
   ],
   "source": [
    "x=input()\n",
    "res=\"\"\n",
    "for i in range(len(x)-1,-1,-1):\n",
    "    res+=x[i]\n",
    "print(res)\n"
   ]
  },
  {
   "cell_type": "code",
   "execution_count": 8,
   "id": "8242b3a6",
   "metadata": {},
   "outputs": [
    {
     "name": "stdout",
     "output_type": "stream",
     "text": [
      "not Armstrong\n"
     ]
    }
   ],
   "source": [
    "x=input()\n",
    "n=len(x)\n",
    "x=int(x)\n",
    "x1=x\n",
    "sum=0\n",
    "while x>0:\n",
    "    r=x%10\n",
    "    ans=r**n\n",
    "    x=x//10\n",
    "    sum+=ans\n",
    "if sum==x1:\n",
    "    print(\"Armstrong\")\n",
    "else:\n",
    "    print(\"not Armstrong\")"
   ]
  },
  {
   "cell_type": "code",
   "execution_count": 11,
   "id": "faeee97f",
   "metadata": {},
   "outputs": [
    {
     "name": "stdout",
     "output_type": "stream",
     "text": [
      "vovels count=  4 consonents count=  10\n"
     ]
    }
   ],
   "source": [
    "x=input()\n",
    "v=\"aeiou\"\n",
    "vc=cc=0\n",
    "for i in x:\n",
    "    if i==\" \":\n",
    "        continue\n",
    "    if i.lower() in v:\n",
    "        vc+=1\n",
    "\n",
    "    else:\n",
    "        cc+=1\n",
    "print(\"vovels count= \",vc,\"consonents count= \",cc)\n",
    "    "
   ]
  },
  {
   "cell_type": "code",
   "execution_count": 12,
   "id": "0aae3b11",
   "metadata": {},
   "outputs": [
    {
     "name": "stdout",
     "output_type": "stream",
     "text": [
      "2 * 1 = 2\n",
      "2 * 2 = 4\n",
      "2 * 3 = 6\n",
      "2 * 4 = 8\n",
      "2 * 5 = 10\n",
      "2 * 6 = 12\n",
      "2 * 7 = 14\n",
      "2 * 8 = 16\n",
      "2 * 9 = 18\n",
      "2 * 10 = 20\n"
     ]
    }
   ],
   "source": [
    "n=int(input())\n",
    "for i in range(1,11):\n",
    "    print(n,\"*\",i,\"=\",(n*i))\n"
   ]
  },
  {
   "cell_type": "code",
   "execution_count": 18,
   "id": "a95dadfc",
   "metadata": {},
   "outputs": [
    {
     "name": "stdout",
     "output_type": "stream",
     "text": [
      "Leap year\n"
     ]
    }
   ],
   "source": [
    "n=int(input())\n",
    "if n%400==0 or (n%4==0 and n%100!=0):\n",
    "    print(\"Leap year\")\n",
    "else:\n",
    "    print(\"Not leap year\")"
   ]
  },
  {
   "cell_type": "code",
   "execution_count": 19,
   "id": "75af1c2a",
   "metadata": {},
   "outputs": [
    {
     "name": "stdout",
     "output_type": "stream",
     "text": [
      "5\n"
     ]
    }
   ],
   "source": [
    "l=list(map(int,input().split()))\n",
    "m=l[0]\n",
    "for i in range(len(l)-1):\n",
    "    if m<l[i]:\n",
    "        m=l[i]\n",
    "    \n",
    "print(m)"
   ]
  },
  {
   "cell_type": "code",
   "execution_count": 20,
   "id": "a5ad812b",
   "metadata": {},
   "outputs": [
    {
     "name": "stdout",
     "output_type": "stream",
     "text": [
      "heeh\n",
      "palindrome\n"
     ]
    }
   ],
   "source": [
    "x=input()\n",
    "res=\"\"\n",
    "for i in range(len(x)-1,-1,-1):\n",
    "    res+=x[i]\n",
    "print(res)\n",
    "if x==res:\n",
    "    print(\"palindrome\")\n",
    "else:\n",
    "    print(\"Not palindrome\")"
   ]
  },
  {
   "cell_type": "code",
   "execution_count": 23,
   "id": "28fb91f5",
   "metadata": {},
   "outputs": [
    {
     "name": "stdout",
     "output_type": "stream",
     "text": [
      "120\n"
     ]
    }
   ],
   "source": [
    "n=int(input())\n",
    "fac=1\n",
    "for i in range(2,n+1):\n",
    "    fac*=i\n",
    "print(fac)"
   ]
  },
  {
   "cell_type": "code",
   "execution_count": 2,
   "id": "f3c1af51",
   "metadata": {},
   "outputs": [
    {
     "name": "stdout",
     "output_type": "stream",
     "text": [
      "15 30 45 60 75 90 "
     ]
    }
   ],
   "source": [
    "for i in range(1,101):\n",
    "    if i%15==0:\n",
    "        print(i,end=\" \")"
   ]
  },
  {
   "cell_type": "code",
   "execution_count": null,
   "id": "01d3007d",
   "metadata": {},
   "outputs": [],
   "source": []
  }
 ],
 "metadata": {
  "kernelspec": {
   "display_name": "Python 3",
   "language": "python",
   "name": "python3"
  },
  "language_info": {
   "codemirror_mode": {
    "name": "ipython",
    "version": 3
   },
   "file_extension": ".py",
   "mimetype": "text/x-python",
   "name": "python",
   "nbconvert_exporter": "python",
   "pygments_lexer": "ipython3",
   "version": "3.11.0"
  }
 },
 "nbformat": 4,
 "nbformat_minor": 5
}
