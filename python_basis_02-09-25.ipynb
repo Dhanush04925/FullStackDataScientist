{
 "cells": [
  {
   "cell_type": "code",
   "execution_count": null,
   "id": "b0b19b60",
   "metadata": {},
   "outputs": [
    {
     "name": "stdout",
     "output_type": "stream",
     "text": [
      "cost of items: 310\n"
     ]
    }
   ],
   "source": [
    "#A grocery shopkeeper wants to calculate the bill of 3 items. Prices and quantities should be stored in variables, and the program should display the total cost.\n",
    "k=list(map(int,input(\"Enter keys:\").split()))\n",
    "v=list(map(int,input(\"Enter values\").split()))\n",
    "s=0\n",
    "for i in range(len(k)):\n",
    "    s+=(k[i]*v[i])\n",
    "print(\"cost of items:\",s)\n",
    "\n"
   ]
  },
  {
   "cell_type": "code",
   "execution_count": null,
   "id": "b2c592cc",
   "metadata": {},
   "outputs": [
    {
     "name": "stdout",
     "output_type": "stream",
     "text": [
      "Addition= 19\n",
      "Subtraction= 11\n",
      "Multiplication= 60\n",
      "Division= 3.75\n",
      "Modulus= 3\n"
     ]
    }
   ],
   "source": [
    "#Build a calculator that takes two numbers and performs addition, subtraction, multiplication, division, and modulus.\n",
    "n1=int(input())\n",
    "n2=int(input())\n",
    "print(\"Addition=\",n1+n2)\n",
    "print(\"Subtraction=\",n1-n2)\n",
    "print(\"Multiplication=\",n1*n2)\n",
    "print(\"Division=\",n1/n2)\n",
    "print(\"Modulus=\",n1%n2)\n",
    "\n"
   ]
  },
  {
   "cell_type": "code",
   "execution_count": null,
   "id": "53773e26",
   "metadata": {},
   "outputs": [
    {
     "name": "stdout",
     "output_type": "stream",
     "text": [
      "Fail\n"
     ]
    }
   ],
   "source": [
    "#A teacher wants a grading system where marks are input, and the grade is displayed.\n",
    "mark=int(input(\"Enter mark:\"))\n",
    "if mark>=90:\n",
    "    print(\"A+\")\n",
    "elif 89 <= mark <=80:\n",
    "    print(\"A\")\n",
    "elif 79 <= mark <=70:\n",
    "    print(\"B\")\n",
    "elif 69 <= mark <=60:\n",
    "    print(\"C\")\n",
    "else:\n",
    "    print(\"Fail\")"
   ]
  },
  {
   "cell_type": "code",
   "execution_count": null,
   "id": "dadcc3b9",
   "metadata": {},
   "outputs": [
    {
     "name": "stdout",
     "output_type": "stream",
     "text": [
      "Highest Marks = 5\n",
      "Lowest Marks = 1\n",
      "Average Marks = 3.0\n"
     ]
    }
   ],
   "source": [
    "#Student Marks List\n",
    "#Scenario: Store marks of 5 students in a list. Display the highest, lowest, and average marks.\n",
    "l=list(map(int,input(\"enter the marks:\").split()))\n",
    "print(\"Highest Marks =\",max(l))\n",
    "print(\"Lowest Marks =\",min(l))\n",
    "avg=sum(l)/len(l)\n",
    "print(\"Average Marks =\",avg)"
   ]
  },
  {
   "cell_type": "code",
   "execution_count": null,
   "id": "3a1ed7b7",
   "metadata": {},
   "outputs": [
    {
     "name": "stdout",
     "output_type": "stream",
     "text": [
      "Phone Number of ravi is  12\n"
     ]
    }
   ],
   "source": [
    "#Create a phonebook using a dictionary where names are keys and numbers are values. Allow searching for a number by name.\n",
    "dict={}\n",
    "n=int(input())\n",
    "k=input(\"Enter the key:\")\n",
    "for _ in range(n):\n",
    "    key=input()\n",
    "    value=input()\n",
    "    dict[key]=value\n",
    "if k in dict:\n",
    "    print(\"Phone Number of\",k,\"is \",dict[k])\n",
    "else:\n",
    "    print(\"not found\")\n"
   ]
  },
  {
   "cell_type": "code",
   "execution_count": 59,
   "id": "c1b47347",
   "metadata": {},
   "outputs": [
    {
     "name": "stdout",
     "output_type": "stream",
     "text": [
      "Total words: 3\n",
      "Total vowels: 6\n",
      "Total characters: 15\n"
     ]
    }
   ],
   "source": [
    "#Write a program to count the number of words, characters, and vowels in a sentence.\n",
    "#6 Write a program to count the number of words, characters, and vowels in a sentence.\n",
    "s=input()\n",
    "s.lower()\n",
    "v=['a','e','i','o','u']\n",
    "vc=0\n",
    "cc=len(s)\n",
    "wc=1\n",
    "for i in range(len(s)-1):\n",
    "    if s[i]==' ' and s[i+1]==' ':\n",
    "        continue\n",
    "    else:\n",
    "        if s[i]==' ':\n",
    "            wc+=1\n",
    "            cc-=1\n",
    "        if s[i] in v:\n",
    "            vc+=1\n",
    "if s[len(s)-1] in v:\n",
    "    vc+=1\n",
    "print(\"Total words:\",wc)\n",
    "print(\"Total vowels:\",vc)\n",
    "print(\"Total characters:\",cc)"
   ]
  },
  {
   "cell_type": "code",
   "execution_count": null,
   "id": "91be87a2",
   "metadata": {},
   "outputs": [
    {
     "name": "stdout",
     "output_type": "stream",
     "text": [
      "Simple intrest 500.0\n",
      "compound intrest 5520.404016\n"
     ]
    }
   ],
   "source": [
    "#7.A bank provides simple interest and compound interest. A user inputs principal, rate, time, and type of interest. Program should calculate accordingly.\n",
    "p=int(input())\n",
    "t=int(input())\n",
    "r=int(input())\n",
    "si=p*t*r/100\n",
    "print(\"Simple intrest\",si)\n",
    "c=p*(1+r/100)**t\n",
    "print(\"compound intrest\",c)\n"
   ]
  },
  {
   "cell_type": "code",
   "execution_count": 3,
   "id": "0c9a8cb3",
   "metadata": {},
   "outputs": [
    {
     "name": "stdout",
     "output_type": "stream",
     "text": [
      "hello\n",
      "khoor"
     ]
    }
   ],
   "source": [
    "#8. Caesar Cipher encryption\n",
    "s = input(\"Enter a Word\")\n",
    "k = int(input(\"Enter number of Shifts\"))\n",
    "print(s)\n",
    "for i in range(len(s)):\n",
    "    if s[i].islower():\n",
    "        ch = ((ord(s[i])+k)-97)%26\n",
    "        print(chr(ch+97),end = \"\")\n",
    "    else:\n",
    "        ch = ((ord(s[i])+k)-65)%26\n",
    "        print(chr(ch+65),end = \"\")"
   ]
  },
  {
   "cell_type": "code",
   "execution_count": 4,
   "id": "1cd6d756",
   "metadata": {},
   "outputs": [
    {
     "name": "stdout",
     "output_type": "stream",
     "text": [
      "PIN Verified\n",
      "Withdrawal Successful. Remaining Balance = 1000\n"
     ]
    }
   ],
   "source": [
    "#9. ATM\n",
    "pin = input(\"Enter PIN\")\n",
    "if len(pin) == 4 and pin.isdigit():\n",
    "    print(\"PIN Verified\")\n",
    "    bal = int(input(\"Enter Balance\"))\n",
    "    wi = int(input(\"Enter Withdrawl Amount\"))\n",
    "    if bal >= wi:\n",
    "        print(\"Withdrawal Successful. Remaining Balance =\",(bal-wi))\n",
    "    else:\n",
    "        print(\"Insufficient Balance\")\n",
    "else:\n",
    "    print(\"Invalid PIN\")"
   ]
  },
  {
   "cell_type": "code",
   "execution_count": 5,
   "id": "1f274166",
   "metadata": {},
   "outputs": [
    {
     "name": "stdout",
     "output_type": "stream",
     "text": [
      "===Library Menu===\n",
      "1.Add a Book\n",
      "2.Remove a Book\n",
      "3.Display The Books\n",
      "4.Quit\n",
      "\n",
      "python added in Library\n",
      "\n",
      "1.Add a Book\n",
      "2.Remove a Book\n",
      "3.Display The Books\n",
      "4.Quit\n",
      "\n",
      "['Python Basics', 'Data Science', 'AI Fundamentals', 'python']\n",
      "Total Books: 4\n",
      "\n",
      "1.Add a Book\n",
      "2.Remove a Book\n",
      "3.Display The Books\n",
      "4.Quit\n",
      "\n"
     ]
    }
   ],
   "source": [
    "#10. Adding removing displaying the books in Library\n",
    "books = [\"Python Basics\", \"Data Science\", \"AI Fundamentals\"]\n",
    "print(\"===Library Menu===\")\n",
    "while True:\n",
    "    print(\"1.Add a Book\\n2.Remove a Book\\n3.Display The Books\\n4.Quit\\n\")\n",
    "    ch = int(input(\"Enter your Choice\"))\n",
    "    if ch == 1:\n",
    "        sub = input(\"Which Subject You want to add ?\")\n",
    "        books.append(sub)\n",
    "        print(sub,\"added in Library\")\n",
    "    elif ch == 2:\n",
    "        sub = input(\"Which Subject You want to remove ?\")\n",
    "        if sub in books:\n",
    "            books.remove(sub)\n",
    "            print(sub,\"Removed From Library\")\n",
    "        else:\n",
    "            print(sub,\"Is Not there to remove\")\n",
    "    elif ch == 3:\n",
    "        print(books)\n",
    "        print(\"Total Books:\",len(books))\n",
    "    elif ch == 4:\n",
    "        break\n",
    "    else:\n",
    "        print(\"Invalid Choice\")\n",
    "    print()"
   ]
  },
  {
   "cell_type": "code",
   "execution_count": null,
   "id": "0b2b477f",
   "metadata": {},
   "outputs": [],
   "source": []
  }
 ],
 "metadata": {
  "kernelspec": {
   "display_name": "venv (3.9.6)",
   "language": "python",
   "name": "python3"
  },
  "language_info": {
   "codemirror_mode": {
    "name": "ipython",
    "version": 3
   },
   "file_extension": ".py",
   "mimetype": "text/x-python",
   "name": "python",
   "nbconvert_exporter": "python",
   "pygments_lexer": "ipython3",
   "version": "3.9.6"
  }
 },
 "nbformat": 4,
 "nbformat_minor": 5
}
