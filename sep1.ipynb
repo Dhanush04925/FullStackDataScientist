{
 "cells": [
  {
   "cell_type": "code",
   "execution_count": null,
   "id": "c396f890",
   "metadata": {},
   "outputs": [
    {
     "name": "stdout",
     "output_type": "stream",
     "text": [
      "2  is a Prime number\n"
     ]
    }
   ],
   "source": [
    "#prime number or not\n",
    "def is_prime(n):\n",
    "    if n <= 1:\n",
    "        return False \n",
    "    for i in range(2, int(n ** 0.5) + 1):\n",
    "        if n % i == 0:\n",
    "            return False\n",
    "    return True\n",
    "n= int(input())\n",
    "if is_prime(n):\n",
    "    print(n,\"is a Prime number\")\n",
    "else:\n",
    "    print(n,\"is not a Prime number\")\n"
   ]
  },
  {
   "cell_type": "code",
   "execution_count": 6,
   "id": "2628c6d9",
   "metadata": {},
   "outputs": [
    {
     "name": "stdout",
     "output_type": "stream",
     "text": [
      "4\n"
     ]
    }
   ],
   "source": [
    "#second largest element in the list\n",
    "l=list(map(int,input().split()))\n",
    "l.sort()\n",
    "l = list(set(l))\n",
    "if len(l)<2:\n",
    "    print(\"number of elemnts are less then 2\")\n",
    "else:\n",
    "    print(l[-2])\n"
   ]
  },
  {
   "cell_type": "code",
   "execution_count": 21,
   "id": "a6e8324d",
   "metadata": {},
   "outputs": [
    {
     "name": "stdout",
     "output_type": "stream",
     "text": [
      "650\n"
     ]
    }
   ],
   "source": [
    "#Even numbers\n",
    "s=0\n",
    "for i in range(1,51):\n",
    "    if i%2==0:\n",
    "        s+=i\n",
    "print(s)"
   ]
  },
  {
   "cell_type": "code",
   "execution_count": 22,
   "id": "143b9691",
   "metadata": {},
   "outputs": [
    {
     "name": "stdout",
     "output_type": "stream",
     "text": [
      "upper 0 lower 0\n"
     ]
    }
   ],
   "source": [
    "#upper and lower case\n",
    "s=input()\n",
    "l=u=0\n",
    "for ch in s:\n",
    "    if ch.islower():\n",
    "        l+=1\n",
    "    elif ch.isupper():\n",
    "        u+=1\n",
    "print(\"upper\",u,\"lower\",l)"
   ]
  },
  {
   "cell_type": "code",
   "execution_count": null,
   "id": "798cd787",
   "metadata": {},
   "outputs": [
    {
     "name": "stdout",
     "output_type": "stream",
     "text": [
      "Fibonacci sequence: [0, 1, 1]\n"
     ]
    }
   ],
   "source": [
    "\n",
    "def fibonacci(n):\n",
    "    s= []\n",
    "    a, b = 0, 1\n",
    "    for _ in range(n):\n",
    "        s.append(a)\n",
    "        a, b = b, a + b\n",
    "    return s\n",
    "n = int(input())\n",
    "print(\"Fibonacci sequence:\", fibonacci(n))\n"
   ]
  },
  {
   "cell_type": "code",
   "execution_count": 24,
   "id": "880d608c",
   "metadata": {},
   "outputs": [
    {
     "name": "stdout",
     "output_type": "stream",
     "text": [
      "anagrams\n"
     ]
    }
   ],
   "source": [
    "def are_anagrams(str1, str2):\n",
    "    return sorted(str1.lower()) == sorted(str2.lower())\n",
    "s1 = input(\"s1: \")\n",
    "s2 = input(\"s2: \")\n",
    "if are_anagrams(s1,s2):\n",
    "    print(\"anagrams\")\n",
    "else:\n",
    "    print(\"Not anagrams\")\n",
    "    \n"
   ]
  },
  {
   "cell_type": "code",
   "execution_count": 27,
   "id": "3f01b3ec",
   "metadata": {},
   "outputs": [
    {
     "name": "stdout",
     "output_type": "stream",
     "text": [
      "Not perfect square\n"
     ]
    }
   ],
   "source": [
    "def is_perfect(n):\n",
    "    if n<0:\n",
    "        return False\n",
    "    i=0\n",
    "    while i*i<=n:\n",
    "        if i*i==n:\n",
    "            return True\n",
    "        i+=1\n",
    "    return False\n",
    "\n",
    "n = int(input())\n",
    "if is_perfect(n):\n",
    "    print(\"perfect square\")\n",
    "else:\n",
    "    print(\"Not perfect square\")\n"
   ]
  },
  {
   "cell_type": "code",
   "execution_count": 38,
   "id": "b2092665",
   "metadata": {},
   "outputs": [
    {
     "name": "stdout",
     "output_type": "stream",
     "text": [
      "\n",
      "Percentage: 3.00%\n",
      "Grade: Fail\n"
     ]
    }
   ],
   "source": [
    "\n",
    "def calculate_grade(marks):\n",
    "    total = sum(marks)\n",
    "    percentage = total / len(marks)\n",
    "\n",
    "    if percentage >= 90:\n",
    "        grade = 'A'\n",
    "    elif percentage >= 75:\n",
    "        grade = 'B'\n",
    "    elif percentage >= 50:\n",
    "        grade = 'C'\n",
    "    else:\n",
    "        grade = 'Fail'\n",
    "\n",
    "    return percentage, grade\n",
    "\n",
    "marks = list(map(int, input().split()))\n",
    "    \n",
    "if len(marks) != 5:\n",
    "    print(\"Please enter exactly 5 marks.\")\n",
    "else:\n",
    "    percentage, grade = calculate_grade(marks)\n",
    "    print(f\"\\nPercentage: {percentage:.2f}%\")\n",
    "    print(f\"Grade: {grade}\")\n",
    "\n"
   ]
  },
  {
   "cell_type": "code",
   "execution_count": 33,
   "id": "757c5126",
   "metadata": {},
   "outputs": [
    {
     "name": "stdout",
     "output_type": "stream",
     "text": [
      "2 3 5 7 11 13 17 19 23 29 31 37 41 43 47 53 59 61 67 71 73 79 83 89 97 "
     ]
    }
   ],
   "source": [
    "def is_prime(n):\n",
    "    if n <= 1:\n",
    "        return False \n",
    "    for i in range(2, int(n ** 0.5) + 1):\n",
    "        if n % i == 0:\n",
    "            return False\n",
    "    return True\n",
    "for i in range(1,101):\n",
    "    if is_prime(i):\n",
    "        print(i,end=\" \")\n",
    "    "
   ]
  },
  {
   "cell_type": "code",
   "execution_count": 34,
   "id": "4af9a57b",
   "metadata": {},
   "outputs": [
    {
     "name": "stdout",
     "output_type": "stream",
     "text": [
      "Word count: 3\n"
     ]
    }
   ],
   "source": [
    "def count_words(sentence):\n",
    "    in_word = False\n",
    "    count = 0\n",
    "    for ch in sentence:\n",
    "        if ch.isspace():\n",
    "            in_word = False\n",
    "        elif not in_word:\n",
    "            in_word = True\n",
    "            count += 1\n",
    "    return count\n",
    "text = input()\n",
    "print(\"Word count:\", count_words(text))\n"
   ]
  },
  {
   "cell_type": "code",
   "execution_count": 7,
   "id": "fd91b0cd",
   "metadata": {},
   "outputs": [
    {
     "name": "stdout",
     "output_type": "stream",
     "text": [
      "final ticket price is 200\n"
     ]
    }
   ],
   "source": [
    "tp=int(input())\n",
    "age=int(input())\n",
    "sdtstatus=input(\"Enter student Status\")\n",
    "if age<60:\n",
    "    if sdtstatus==\"yes\":\n",
    "        dis=(tp/100)*20\n",
    "        tp=tp-dis\n",
    "    else:\n",
    "        tp=tp\n",
    "else:\n",
    "    dis=(tp/100)*10\n",
    "    tp=tp-dis\n",
    "print(\"final ticket price is\",tp)\n"
   ]
  },
  {
   "cell_type": "code",
   "execution_count": 3,
   "id": "68181353",
   "metadata": {},
   "outputs": [
    {
     "name": "stdout",
     "output_type": "stream",
     "text": [
      "Final amount to be paid : 350\n"
     ]
    }
   ],
   "source": [
    "cart=int(input(\"cart total:\"))\n",
    "if cart<=500:\n",
    "    cart+=50\n",
    "print(\"Final amount to be paid :\",cart)"
   ]
  },
  {
   "cell_type": "code",
   "execution_count": 4,
   "id": "e10e9da8",
   "metadata": {},
   "outputs": [
    {
     "name": "stdout",
     "output_type": "stream",
     "text": [
      "40 grade: Fail\n",
      "58 grade: C\n",
      "90 grade: A\n",
      "48 grade: Fail\n"
     ]
    }
   ],
   "source": [
    "marks = list(map(int, input().split()))  \n",
    "for mark in marks:  \n",
    "    if mark >= 90:\n",
    "        grade = 'A'\n",
    "    elif mark >= 75:\n",
    "        mark = 'B'\n",
    "    elif mark >= 50:\n",
    "        grade = 'C'\n",
    "    else:\n",
    "        grade = 'Fail'\n",
    "    print(mark,\"grade:\",grade)"
   ]
  },
  {
   "cell_type": "code",
   "execution_count": 8,
   "id": "891cb610",
   "metadata": {},
   "outputs": [
    {
     "name": "stdout",
     "output_type": "stream",
     "text": [
      "Final amount 550.0\n"
     ]
    }
   ],
   "source": [
    "amount=int(input())\n",
    "if amount<500:\n",
    "    tip=(amount/100)*5\n",
    "    amount+=tip\n",
    "elif 500 <= amount <= 1000:\n",
    "    tip=(amount/100)*10\n",
    "    amount+=tip\n",
    "else:\n",
    "    tip=(amount/100)*15\n",
    "    amount+=tip\n",
    "print(\"Final amount\",amount)"
   ]
  },
  {
   "cell_type": "code",
   "execution_count": 9,
   "id": "68ea2ddb",
   "metadata": {},
   "outputs": [
    {
     "name": "stdout",
     "output_type": "stream",
     "text": [
      "eligible\n"
     ]
    }
   ],
   "source": [
    "tc=int(input())\n",
    "ac=int(input())\n",
    "per=(100*ac)/tc\n",
    "if per>=75:\n",
    "    print(\"eligible\")\n",
    "else:\n",
    "    print(\"ineligible\")\n",
    "    "
   ]
  },
  {
   "cell_type": "code",
   "execution_count": 11,
   "id": "a93560e6",
   "metadata": {},
   "outputs": [
    {
     "name": "stdout",
     "output_type": "stream",
     "text": [
      "Transaction is failed\n"
     ]
    }
   ],
   "source": [
    "amount=int(input())\n",
    "if amount%100==0:\n",
    "    print(\"Transaction is successful\")\n",
    "else:\n",
    "    print(\"Transaction is failed\")"
   ]
  },
  {
   "cell_type": "code",
   "execution_count": 16,
   "id": "195ff0cf",
   "metadata": {},
   "outputs": [
    {
     "name": "stdout",
     "output_type": "stream",
     "text": [
      "Nice weather, go out!\n"
     ]
    }
   ],
   "source": [
    "temp=int(input())\n",
    "if temp==35:\n",
    "    print(\"Too hot, stay indoors!\")\n",
    "elif 20<= temp <35:\n",
    "    print(\"Nice weather, go out!\")\n",
    "elif temp<20:\n",
    "    print(\"It’s cold, wear warm clothes!\")\n",
    "else:\n",
    "    print(\"Extreamly hot\")\n"
   ]
  }
 ],
 "metadata": {
  "kernelspec": {
   "display_name": "venv (3.9.6)",
   "language": "python",
   "name": "python3"
  },
  "language_info": {
   "codemirror_mode": {
    "name": "ipython",
    "version": 3
   },
   "file_extension": ".py",
   "mimetype": "text/x-python",
   "name": "python",
   "nbconvert_exporter": "python",
   "pygments_lexer": "ipython3",
   "version": "3.9.6"
  }
 },
 "nbformat": 4,
 "nbformat_minor": 5
}
