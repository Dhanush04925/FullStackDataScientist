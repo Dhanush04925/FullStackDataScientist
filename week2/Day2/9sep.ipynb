{
 "cells": [
  {
   "cell_type": "code",
   "execution_count": 6,
   "id": "3d3e86ac",
   "metadata": {},
   "outputs": [
    {
     "name": "stdout",
     "output_type": "stream",
     "text": [
      "3\n"
     ]
    }
   ],
   "source": [
    "file=open(\"text.txt\",\"r\")\n",
    "ch=file.read(100)\n",
    "l=list(ch.split())\n",
    "print(len(l))"
   ]
  },
  {
   "cell_type": "code",
   "execution_count": 9,
   "id": "7454114f",
   "metadata": {},
   "outputs": [
    {
     "name": "stdout",
     "output_type": "stream",
     "text": [
      "Not strong password\n"
     ]
    }
   ],
   "source": [
    "s=input(\"Enter strong password:\")\n",
    "if len(s)>8 and any(i.isupper() for i in s) and any(i.islower() for i in s) and any(i.isdigit() for i in s) and any(not i.isalnum() for i in s):\n",
    "    print(\"Strong password\")\n",
    "else:\n",
    "    print(\"Not strong password\")\n"
   ]
  },
  {
   "cell_type": "code",
   "execution_count": 15,
   "id": "7ce37001",
   "metadata": {},
   "outputs": [
    {
     "name": "stdout",
     "output_type": "stream",
     "text": [
      "===Calculator===\n",
      "Enter operation *+_/\n",
      "Multiplication= 24\n"
     ]
    }
   ],
   "source": [
    "print(\"===Calculator===\")\n",
    "a,b=map(int,input().split())\n",
    "print(\"Enter operation *+_/\")\n",
    "ch=input(\"Enter your choice:\")\n",
    "if ch==\"+\":\n",
    "    print(\"Addition=\",(a+b))\n",
    "elif ch==\"-\":\n",
    "    print(\"Subration=\",(a-b))\n",
    "elif ch==\"*\":\n",
    "    print(\"Multiplication=\",(a*b))\n",
    "elif ch==\"/\":\n",
    "    print(\"Subration=\",(a/b))\n",
    "else:\n",
    "    print(\"Enter valid operation\")"
   ]
  },
  {
   "cell_type": "code",
   "execution_count": 22,
   "id": "d7d14118",
   "metadata": {},
   "outputs": [
    {
     "name": "stdout",
     "output_type": "stream",
     "text": [
      "Counter({'raju': 2, 'ravi': 2, 'sai': 1})\n",
      "['raju', 'ravi']\n"
     ]
    }
   ],
   "source": [
    "from collections import Counter\n",
    "l=list(map(str,input().split()))\n",
    "d=Counter(l)\n",
    "print(d)\n",
    "res=[]\n",
    "for i in d:\n",
    "    if d[i]>1:\n",
    "        res.append(i)\n",
    "print(res)"
   ]
  },
  {
   "cell_type": "code",
   "execution_count": 24,
   "id": "47db5bf9",
   "metadata": {},
   "outputs": [
    {
     "name": "stdout",
     "output_type": "stream",
     "text": [
      "Celsius to Fahrenheit is: 86.0\n"
     ]
    }
   ],
   "source": [
    "choice = input(\"Convert from (C)elsius or (F)ahrenheit? \").strip().upper()\n",
    "if choice == 'C':\n",
    "    cel = float(input(\"Enter temperature in Celsius: \"))\n",
    "    f = (9 * cel) / 5 + 32\n",
    "    print(\"Celsius to Fahrenheit is:\", f)\n",
    "elif choice == 'F':\n",
    "    fah = float(input(\"Enter temperature in Fahrenheit: \"))\n",
    "    c = (fah - 32) * 5 / 9\n",
    "    print(\"Fahrenheit to Celsius is:\", c)\n",
    "else:\n",
    "    print(\"Invalid choice. Please enter 'C' or 'F'.\")\n"
   ]
  },
  {
   "cell_type": "code",
   "execution_count": 25,
   "id": "56227f5d",
   "metadata": {},
   "outputs": [
    {
     "name": "stdout",
     "output_type": "stream",
     "text": [
      "40\n"
     ]
    }
   ],
   "source": [
    "l=list(map(int,input().split()))\n",
    "print(max(l))"
   ]
  },
  {
   "cell_type": "code",
   "execution_count": 28,
   "id": "91c5f21e",
   "metadata": {},
   "outputs": [
    {
     "name": "stdout",
     "output_type": "stream",
     "text": [
      "Simple intrest: 4800.0\n",
      "Total amount: 124800.0\n"
     ]
    }
   ],
   "source": [
    "p=int(input(\"Enter principle\"))\n",
    "t=int(input(\"Enter tine\"))\n",
    "r=int(input(\"Enter rate\"))\n",
    "s=p*t*r/100\n",
    "print(\"Simple intrest:\",s)\n",
    "print(\"Total amount:\",(s+p))"
   ]
  },
  {
   "cell_type": "code",
   "execution_count": 30,
   "id": "9b63b618",
   "metadata": {},
   "outputs": [
    {
     "name": "stdout",
     "output_type": "stream",
     "text": [
      "sai "
     ]
    }
   ],
   "source": [
    "n=int(input(\"Enter number of students\"))\n",
    "dict={}\n",
    "for i in range(n):\n",
    "    key=input()\n",
    "    value=int(input())\n",
    "    dict[key]=value\n",
    "for i in dict:\n",
    "    if dict[i]<75:\n",
    "        print(i,end=\" \")\n"
   ]
  },
  {
   "cell_type": "code",
   "execution_count": 31,
   "id": "18dcecdf",
   "metadata": {},
   "outputs": [
    {
     "name": "stdout",
     "output_type": "stream",
     "text": [
      "10\n"
     ]
    }
   ],
   "source": [
    "n=int(input(\"Enter the number:\"))\n",
    "sum=0\n",
    "while n>0:\n",
    "    r=n%10\n",
    "    sum+=r\n",
    "    n=n//10\n",
    "print(sum)\n"
   ]
  },
  {
   "cell_type": "code",
   "execution_count": 32,
   "id": "bf7afbb4",
   "metadata": {},
   "outputs": [
    {
     "name": "stdout",
     "output_type": "stream",
     "text": [
      "20 not prime\n"
     ]
    }
   ],
   "source": [
    "def is_prime(n):\n",
    "    if n <= 1:\n",
    "        return False \n",
    "    for i in range(2, int(n ** 0.5) + 1):\n",
    "        if n % i == 0:\n",
    "            return False\n",
    "    return True\n",
    "n= int(input())\n",
    "if is_prime(n):\n",
    "    print(n,\"Prime\")\n",
    "else:\n",
    "    print(n,\"not prime\")"
   ]
  },
  {
   "cell_type": "code",
   "execution_count": 34,
   "id": "7c6d04c1",
   "metadata": {},
   "outputs": [
    {
     "name": "stdout",
     "output_type": "stream",
     "text": [
      "[10, 20, 90, 90, 50]\n",
      "max element is: 90\n",
      "min element is : 10\n"
     ]
    }
   ],
   "source": [
    "l=list(map(int,input().split()))\n",
    "print(l)\n",
    "print(\"max element is:\",max(l))\n",
    "print(\"min element is :\",min(l))"
   ]
  },
  {
   "cell_type": "code",
   "execution_count": 35,
   "id": "344f7fb5",
   "metadata": {},
   "outputs": [
    {
     "name": "stdout",
     "output_type": "stream",
     "text": [
      "Total bill is: 194\n"
     ]
    }
   ],
   "source": [
    "n=int(input(\"Enter number of items\"))\n",
    "dict={}\n",
    "for i in range(n):\n",
    "    key=input()\n",
    "    value=int(input())\n",
    "    dict[key]=value\n",
    "s=0\n",
    "for i in dict:\n",
    "    s+=dict[i]\n",
    "print(\"Total bill is:\",s)"
   ]
  },
  {
   "cell_type": "code",
   "execution_count": 36,
   "id": "1b1d812b",
   "metadata": {},
   "outputs": [
    {
     "name": "stdout",
     "output_type": "stream",
     "text": [
      "largest elements is: 90\n"
     ]
    }
   ],
   "source": [
    "l=list(map(int,input(\"Enter 3 numbers\").split()))\n",
    "print(\"largest elements is:\",max(l))"
   ]
  },
  {
   "cell_type": "code",
   "execution_count": 39,
   "id": "b9af6772",
   "metadata": {},
   "outputs": [
    {
     "name": "stdout",
     "output_type": "stream",
     "text": [
      "{'s': 1, 't': 1, 'r': 1, 'i': 1, 'n': 1, 'g': 1}\n"
     ]
    }
   ],
   "source": [
    "s=input(\"Enter String\")\n",
    "dict={}\n",
    "for i in s:  \n",
    "    if i in dict:\n",
    "        dict[i]=dict[i]+1\n",
    "    else:\n",
    "        dict[i]=1\n",
    "print(dict)"
   ]
  },
  {
   "cell_type": "code",
   "execution_count": 40,
   "id": "7d90556f",
   "metadata": {},
   "outputs": [
    {
     "name": "stdout",
     "output_type": "stream",
     "text": [
      "Total bill is: 1400\n"
     ]
    }
   ],
   "source": [
    "bill=int(input(\"Enter the bill\"))\n",
    "if bill<=100:\n",
    "    e=bill*5\n",
    "elif 100<bill<=200:\n",
    "    e=bill*7\n",
    "elif bill>200:\n",
    "    e=bill*10\n",
    "print(\"Total bill is:\",e)\n",
    "    \n"
   ]
  },
  {
   "cell_type": "code",
   "execution_count": 43,
   "id": "925b7d33",
   "metadata": {},
   "outputs": [
    {
     "name": "stdout",
     "output_type": "stream",
     "text": [
      "['sai', 'ram', 'abhi']\n",
      "Sorted list is: ['abhi', 'ram', 'sai']\n"
     ]
    }
   ],
   "source": [
    "l=list(map(str,input(\"Enter the names:\").split()))\n",
    "print(l)\n",
    "l=sorted(l)\n",
    "print(\"Sorted list is:\",l)"
   ]
  },
  {
   "cell_type": "code",
   "execution_count": 45,
   "id": "91134fa4",
   "metadata": {},
   "outputs": [
    {
     "name": "stdout",
     "output_type": "stream",
     "text": [
      "-4321\n"
     ]
    }
   ],
   "source": [
    "n=int(input())\n",
    "n1=abs(n)\n",
    "sum=0\n",
    "while n1>0:\n",
    "    r=n1%10\n",
    "    sum=(sum*10)+r\n",
    "    n1=n1//10\n",
    "if n<0:\n",
    "    ans=sum*(-1)\n",
    "    print(ans)\n",
    "else:\n",
    "    print(sum)"
   ]
  },
  {
   "cell_type": "code",
   "execution_count": 48,
   "id": "e90fca01",
   "metadata": {},
   "outputs": [
    {
     "name": "stdout",
     "output_type": "stream",
     "text": [
      "[20, -2, -3, 9, 0, 0]\n",
      "positive no. count= 2\n",
      "negative no. count= 2\n",
      "Zeroes count: 2\n"
     ]
    }
   ],
   "source": [
    "l=list(map(int,input(\"Enter the names:\").split()))\n",
    "print(l)\n",
    "n=p=z=0\n",
    "for i in l:\n",
    "    if i<0:\n",
    "        n+=1\n",
    "    elif i>0:\n",
    "        p+=1\n",
    "    elif i==0:\n",
    "        z+=1\n",
    "print(\"positive no. count=\",p)\n",
    "print(\"negative no. count=\",p)\n",
    "print(\"Zeroes count:\",z)\n",
    "\n"
   ]
  },
  {
   "cell_type": "code",
   "execution_count": 55,
   "id": "95b8cbda",
   "metadata": {},
   "outputs": [
    {
     "name": "stdout",
     "output_type": "stream",
     "text": [
      "Try again!you have  2 attempts\n",
      "Try again!you have  1 attempts\n",
      "You entered correct pin\n"
     ]
    }
   ],
   "source": [
    "pin=1234\n",
    "n=3\n",
    "while n>0:\n",
    "    p=int(input(\"Enter the pin:\"))\n",
    "    if p==pin:\n",
    "        print(\"You entered correct pin\")\n",
    "        break\n",
    "    else:\n",
    "        n=n-1\n",
    "        print(\"Try again!you have \",(n),\"attempts\")\n",
    "\n"
   ]
  },
  {
   "cell_type": "code",
   "execution_count": null,
   "id": "7455c7ed",
   "metadata": {},
   "outputs": [],
   "source": [
    "\n",
    "try:\n",
    "    a,b=int"
   ]
  }
 ],
 "metadata": {
  "kernelspec": {
   "display_name": "venv (3.9.6)",
   "language": "python",
   "name": "python3"
  },
  "language_info": {
   "codemirror_mode": {
    "name": "ipython",
    "version": 3
   },
   "file_extension": ".py",
   "mimetype": "text/x-python",
   "name": "python",
   "nbconvert_exporter": "python",
   "pygments_lexer": "ipython3",
   "version": "3.9.6"
  }
 },
 "nbformat": 4,
 "nbformat_minor": 5
}
